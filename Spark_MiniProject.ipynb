{
 "cells": [
  {
   "cell_type": "code",
   "execution_count": 1,
   "id": "92b03f43",
   "metadata": {},
   "outputs": [],
   "source": [
    "import findspark\n",
    "findspark.init()\n",
    "import pyspark"
   ]
  },
  {
   "cell_type": "code",
   "execution_count": 3,
   "id": "f0298eea",
   "metadata": {},
   "outputs": [],
   "source": [
    "from pyspark.sql import SparkSession\n",
    "\n",
    "spark = SparkSession.builder.appName('walmart').getOrCreate()"
   ]
  },
  {
   "cell_type": "code",
   "execution_count": 4,
   "id": "94bc380e",
   "metadata": {},
   "outputs": [],
   "source": [
    "# C:/Users/Miles.DESKTOP-R8LNB2P/Documents/BIG DATA/Spark_MiniProject --- CSV file path"
   ]
  },
  {
   "cell_type": "code",
   "execution_count": 5,
   "id": "e385d550",
   "metadata": {},
   "outputs": [],
   "source": [
    "walmartDF =  spark.read.load(\"walmart_stock.csv\", \n",
    "                             format=\"csv\", \n",
    "                             sep=\",\", \n",
    "                             inferSchema=\"true\", \n",
    "                             header=\"true\")"
   ]
  },
  {
   "cell_type": "code",
   "execution_count": 6,
   "id": "41f9bb05",
   "metadata": {},
   "outputs": [
    {
     "name": "stdout",
     "output_type": "stream",
     "text": [
      "root\n",
      " |-- Date: timestamp (nullable = true)\n",
      " |-- Open: double (nullable = true)\n",
      " |-- High: double (nullable = true)\n",
      " |-- Low: double (nullable = true)\n",
      " |-- Close: double (nullable = true)\n",
      " |-- Volume: integer (nullable = true)\n",
      " |-- Adj Close: double (nullable = true)\n",
      "\n"
     ]
    }
   ],
   "source": [
    "walmartDF.printSchema()"
   ]
  },
  {
   "cell_type": "markdown",
   "id": "1fc0785c",
   "metadata": {},
   "source": [
    "Print the first 5 records"
   ]
  },
  {
   "cell_type": "code",
   "execution_count": 7,
   "id": "3695fc84",
   "metadata": {},
   "outputs": [
    {
     "name": "stdout",
     "output_type": "stream",
     "text": [
      "+-------------------+------------------+---------+---------+------------------+--------+------------------+\n",
      "|               Date|              Open|     High|      Low|             Close|  Volume|         Adj Close|\n",
      "+-------------------+------------------+---------+---------+------------------+--------+------------------+\n",
      "|2012-01-03 00:00:00|         59.970001|61.060001|59.869999|         60.330002|12668800|52.619234999999996|\n",
      "|2012-01-04 00:00:00|60.209998999999996|60.349998|59.470001|59.709998999999996| 9593300|         52.078475|\n",
      "|2012-01-05 00:00:00|         59.349998|59.619999|58.369999|         59.419998|12768200|         51.825539|\n",
      "|2012-01-06 00:00:00|         59.419998|59.450001|58.869999|              59.0| 8069400|          51.45922|\n",
      "|2012-01-09 00:00:00|         59.029999|59.549999|58.919998|             59.18| 6679300|51.616215000000004|\n",
      "+-------------------+------------------+---------+---------+------------------+--------+------------------+\n",
      "only showing top 5 rows\n",
      "\n"
     ]
    }
   ],
   "source": [
    "walmartDF.show(5)"
   ]
  },
  {
   "cell_type": "code",
   "execution_count": 8,
   "id": "c00bdaf3",
   "metadata": {
    "scrolled": true
   },
   "outputs": [
    {
     "name": "stdout",
     "output_type": "stream",
     "text": [
      "+-------+------------------+-----------------+-----------------+-----------------+-----------------+-----------------+\n",
      "|summary|              Open|             High|              Low|            Close|           Volume|        Adj Close|\n",
      "+-------+------------------+-----------------+-----------------+-----------------+-----------------+-----------------+\n",
      "|  count|              1258|             1258|             1258|             1258|             1258|             1258|\n",
      "|   mean| 72.35785375357709|72.83938807631165| 71.9186009594594|72.38844998012726|8222093.481717011|67.23883848728146|\n",
      "| stddev|  6.76809024470826|6.768186808159218|6.744075756255496|6.756859163732991|  4519780.8431556|6.722609449996857|\n",
      "|    min|56.389998999999996|        57.060001|        56.299999|        56.419998|          2094900|        50.363689|\n",
      "|    max|         90.800003|        90.970001|            89.25|        90.470001|         80898100|84.91421600000001|\n",
      "+-------+------------------+-----------------+-----------------+-----------------+-----------------+-----------------+\n",
      "\n"
     ]
    }
   ],
   "source": [
    "walmart = walmartDF.describe()\n",
    "walmart.show()"
   ]
  },
  {
   "cell_type": "code",
   "execution_count": 9,
   "id": "d1e618da",
   "metadata": {},
   "outputs": [
    {
     "name": "stdout",
     "output_type": "stream",
     "text": [
      "+-------+--------------+--------------+-------------+---------------+----------------+-------------------+\n",
      "|summary|round(Open, 2)|round(High, 2)|round(Low, 2)|round(Close, 2)|round(Volume, 2)|round(Adj Close, 2)|\n",
      "+-------+--------------+--------------+-------------+---------------+----------------+-------------------+\n",
      "|  count|        1258.0|        1258.0|       1258.0|         1258.0|          1258.0|             1258.0|\n",
      "|   mean|         72.36|         72.84|        71.92|          72.39|      8222093.48|              67.24|\n",
      "| stddev|          6.77|          6.77|         6.74|           6.76|      4519780.84|               6.72|\n",
      "|    min|         56.39|         57.06|         56.3|          56.42|       2094900.0|              50.36|\n",
      "|    max|          90.8|         90.97|        89.25|          90.47|       8.08981E7|              84.91|\n",
      "+-------+--------------+--------------+-------------+---------------+----------------+-------------------+\n",
      "\n"
     ]
    }
   ],
   "source": [
    "from pyspark.sql.functions import round, col\n",
    "des = walmart.select('summary', round(\"Open\",2), round(\"High\",2), round(\"Low\",2), \n",
    "                     round(\"Close\",2), round(\"Volume\",2), round(\"Adj Close\",2) )\n",
    "des.show()"
   ]
  },
  {
   "cell_type": "code",
   "execution_count": 10,
   "id": "c6a9b82c",
   "metadata": {},
   "outputs": [
    {
     "name": "stdout",
     "output_type": "stream",
     "text": [
      "+-------+------+------+------+------+----------+---------+\n",
      "|summary|  open|  High|   Low| close|    volume|Adj close|\n",
      "+-------+------+------+------+------+----------+---------+\n",
      "|  count|1258.0|1258.0|1258.0|1258.0|    1258.0|   1258.0|\n",
      "|   mean| 72.36| 72.84| 71.92| 72.39|8222093.48|    67.24|\n",
      "| stddev|  6.77|  6.77|  6.74|  6.76|4519780.84|     6.72|\n",
      "|    min| 56.39| 57.06|  56.3| 56.42| 2094900.0|    50.36|\n",
      "|    max|  90.8| 90.97| 89.25| 90.47| 8.08981E7|    84.91|\n",
      "+-------+------+------+------+------+----------+---------+\n",
      "\n"
     ]
    }
   ],
   "source": [
    "des.select(\"summary\",col(\"round(open, 2)\").alias(\"open\"),\n",
    "           col(\"round(High, 2)\").alias(\"High\"),\n",
    "           col(\"round(Low, 2)\").alias(\"Low\"),\n",
    "           col(\"round(close, 2)\").alias(\"close\"),\n",
    "           col(\"round(volume, 2)\").alias(\"volume\"),\n",
    "           col(\"round(Adj close, 2)\").alias(\"Adj close\")).show()"
   ]
  },
  {
   "cell_type": "code",
   "execution_count": 17,
   "id": "04346696",
   "metadata": {},
   "outputs": [
    {
     "data": {
      "text/plain": [
       "1258"
      ]
     },
     "execution_count": 17,
     "metadata": {},
     "output_type": "execute_result"
    }
   ],
   "source": [
    "walmartDF.count()"
   ]
  },
  {
   "cell_type": "code",
   "execution_count": 12,
   "id": "88d7974a",
   "metadata": {
    "scrolled": true
   },
   "outputs": [
    {
     "name": "stdout",
     "output_type": "stream",
     "text": [
      "+-------------------+------------------+---------+---------+------------------+--------+------------------+\n",
      "|               Date|              Open|     High|      Low|             Close|  Volume|         Adj Close|\n",
      "+-------------------+------------------+---------+---------+------------------+--------+------------------+\n",
      "|2012-01-03 00:00:00|         59.970001|61.060001|59.869999|         60.330002|12668800|52.619234999999996|\n",
      "|2012-01-04 00:00:00|60.209998999999996|60.349998|59.470001|59.709998999999996| 9593300|         52.078475|\n",
      "|2012-01-05 00:00:00|         59.349998|59.619999|58.369999|         59.419998|12768200|         51.825539|\n",
      "|2012-01-06 00:00:00|         59.419998|59.450001|58.869999|              59.0| 8069400|          51.45922|\n",
      "|2012-01-09 00:00:00|         59.029999|59.549999|58.919998|             59.18| 6679300|51.616215000000004|\n",
      "+-------------------+------------------+---------+---------+------------------+--------+------------------+\n",
      "only showing top 5 rows\n",
      "\n"
     ]
    }
   ],
   "source": [
    "walmartDF.show(5)"
   ]
  },
  {
   "cell_type": "markdown",
   "id": "23b647a3",
   "metadata": {},
   "source": [
    "Create a new dataframe with a column called HV Ratio that is the ratio \n",
    "of the High Price versus volume of stock traded for a day. "
   ]
  },
  {
   "cell_type": "code",
   "execution_count": 21,
   "id": "70440b30",
   "metadata": {},
   "outputs": [
    {
     "name": "stdout",
     "output_type": "stream",
     "text": [
      "+--------------------+\n",
      "|            HV_ratio|\n",
      "+--------------------+\n",
      "|4.819714653321546E-6|\n",
      "|6.290848613094555E-6|\n",
      "|4.669412994783916E-6|\n",
      "|7.367338463826307E-6|\n",
      "|8.915604778943901E-6|\n",
      "|8.644477436914568E-6|\n",
      "|9.351828421515645E-6|\n",
      "| 8.29141562102703E-6|\n",
      "|7.712212102001476E-6|\n",
      "|7.071764823529412E-6|\n",
      "|1.015495466386981E-5|\n",
      "|6.576354146362592...|\n",
      "| 5.90145296180676E-6|\n",
      "|8.547679455011844E-6|\n",
      "|8.420709512685392E-6|\n",
      "|1.041448341728929...|\n",
      "|8.316075414862431E-6|\n",
      "|9.721183814992126E-6|\n",
      "|8.029436027707578E-6|\n",
      "|6.307432259386365E-6|\n",
      "+--------------------+\n",
      "only showing top 20 rows\n",
      "\n"
     ]
    }
   ],
   "source": [
    "walmartDF.createOrReplaceTempView('newDF')\n",
    "ps1 = spark.sql('select (High/Volume) as HV_ratio from newDF')\n",
    "\n",
    "ps1.show()"
   ]
  },
  {
   "cell_type": "markdown",
   "id": "dfa1c227",
   "metadata": {},
   "source": [
    "# What day had the Peak High in Price?\n"
   ]
  },
  {
   "cell_type": "code",
   "execution_count": 33,
   "id": "5c8c9672",
   "metadata": {
    "scrolled": true
   },
   "outputs": [
    {
     "name": "stdout",
     "output_type": "stream",
     "text": [
      "+-------------------+---------+\n",
      "|               Date|Peak_High|\n",
      "+-------------------+---------+\n",
      "|2015-01-13 00:00:00|90.970001|\n",
      "+-------------------+---------+\n",
      "\n"
     ]
    }
   ],
   "source": [
    "PeakHigh = spark.sql(\"select Date, max(High) as Peak_High from newDF group by Date order by Peak_High desc limit 1\")\n",
    "PeakHigh.show()"
   ]
  },
  {
   "cell_type": "markdown",
   "id": "9d969359",
   "metadata": {},
   "source": [
    "# What is the mean of the Close column?"
   ]
  },
  {
   "cell_type": "code",
   "execution_count": 32,
   "id": "44f6308e",
   "metadata": {
    "scrolled": true
   },
   "outputs": [
    {
     "name": "stdout",
     "output_type": "stream",
     "text": [
      "+-----------------+\n",
      "|        Avg_Close|\n",
      "+-----------------+\n",
      "|72.38844998012726|\n",
      "+-----------------+\n",
      "\n"
     ]
    }
   ],
   "source": [
    "Avg_Close = spark.sql(\"select avg(Close) as Avg_Close from newDF\")\n",
    "Avg_Close.show()"
   ]
  },
  {
   "cell_type": "markdown",
   "id": "222d3aba",
   "metadata": {},
   "source": [
    "# What is the max and min of the Volume column?\n"
   ]
  },
  {
   "cell_type": "code",
   "execution_count": 31,
   "id": "32ab399b",
   "metadata": {
    "scrolled": true
   },
   "outputs": [
    {
     "name": "stdout",
     "output_type": "stream",
     "text": [
      "+----------+----------+\n",
      "|Max_Volume|Min_Volume|\n",
      "+----------+----------+\n",
      "|  80898100|   2094900|\n",
      "+----------+----------+\n",
      "\n"
     ]
    }
   ],
   "source": [
    "Max_Min_Volume = spark.sql(\"select max(Volume) \\\n",
    "                           as Max_Volume, \\\n",
    "                           min(Volume) as Min_Volume \\\n",
    "                           from newDF\")\n",
    "Max_Min_Volume.show()"
   ]
  },
  {
   "cell_type": "markdown",
   "id": "b98e1fa1",
   "metadata": {},
   "source": [
    "# How many days was the Close lower than 60 dollars?"
   ]
  },
  {
   "cell_type": "code",
   "execution_count": 30,
   "id": "13003169",
   "metadata": {},
   "outputs": [
    {
     "name": "stdout",
     "output_type": "stream",
     "text": [
      "+----+\n",
      "|Days|\n",
      "+----+\n",
      "|  81|\n",
      "+----+\n",
      "\n"
     ]
    }
   ],
   "source": [
    "Days_Close = spark.sql(\"select count(Date) as Days from newDF where Close < 60\")\n",
    "Days_Close.show()"
   ]
  },
  {
   "cell_type": "markdown",
   "id": "f016c4c3",
   "metadata": {},
   "source": [
    "# What percentage of the time was the High greater than 80 dollars ? \n",
    "\n",
    "### What percentage of the time was the High greater than 80 dollars ? \n",
    "### In other words, (Number of Days High>80)/(Total Days in the dataset)"
   ]
  },
  {
   "cell_type": "code",
   "execution_count": null,
   "id": "d181f279",
   "metadata": {},
   "outputs": [],
   "source": [
    "# SET @total_days = (select count(*) from newDF); select count(*)/@total_days from newDF where High>80"
   ]
  },
  {
   "cell_type": "code",
   "execution_count": 46,
   "id": "ac0f6143",
   "metadata": {
    "scrolled": false
   },
   "outputs": [
    {
     "name": "stdout",
     "output_type": "stream",
     "text": [
      "+-----------------+\n",
      "|          percent|\n",
      "+-----------------+\n",
      "|9.141494435612083|\n",
      "+-----------------+\n",
      "\n"
     ]
    }
   ],
   "source": [
    "percent = spark.sql(\"select \\\n",
    "                    (count(Date)/ \\\n",
    "                    (Select count(Date) from newDF)*100) \\\n",
    "                    as percent from newDF \\\n",
    "                    where high>80\")\n",
    "\n",
    "percent.show()"
   ]
  },
  {
   "cell_type": "markdown",
   "id": "06173fed",
   "metadata": {},
   "source": [
    "# What is the pearson correlation between high and volume?\n"
   ]
  },
  {
   "cell_type": "code",
   "execution_count": 55,
   "id": "1aef4011",
   "metadata": {},
   "outputs": [
    {
     "name": "stdout",
     "output_type": "stream",
     "text": [
      "+-------------------+\n",
      "|Pearson_Correlation|\n",
      "+-------------------+\n",
      "|-0.3384326061737161|\n",
      "+-------------------+\n",
      "\n"
     ]
    }
   ],
   "source": [
    "pcorr = spark.sql(\"select corr(High,Volume) \\\n",
    "                  as Pearson_Correlation \\\n",
    "                  from newDF\")\n",
    "pcorr.show()"
   ]
  },
  {
   "cell_type": "markdown",
   "id": "4b4a5388",
   "metadata": {},
   "source": [
    "# What is the max High per year?"
   ]
  },
  {
   "cell_type": "code",
   "execution_count": 54,
   "id": "7488d3d4",
   "metadata": {},
   "outputs": [
    {
     "name": "stdout",
     "output_type": "stream",
     "text": [
      "+----------+---------+\n",
      "|year(Date)|max(High)|\n",
      "+----------+---------+\n",
      "|      2015|90.970001|\n",
      "|      2013|81.370003|\n",
      "|      2014|88.089996|\n",
      "|      2012|77.599998|\n",
      "|      2016|75.190002|\n",
      "+----------+---------+\n",
      "\n"
     ]
    }
   ],
   "source": [
    "maxHighYear = spark.sql(\"select year(Date), \\\n",
    "                        max(High) from newDF \\\n",
    "                        group by year(Date)\")\n",
    "maxHighYear.show()"
   ]
  },
  {
   "cell_type": "markdown",
   "id": "71fc42e3",
   "metadata": {},
   "source": [
    "# what is the average close for each calender month?\n",
    "### In other words, across all the years, what is the average Close price for Jan,Feb, Mar, etc... \n",
    "### Your result will have a value for each of these months."
   ]
  },
  {
   "cell_type": "code",
   "execution_count": 53,
   "id": "2e35a461",
   "metadata": {},
   "outputs": [
    {
     "name": "stdout",
     "output_type": "stream",
     "text": [
      "+-----+-----------------+\n",
      "|Month|        Avg_Close|\n",
      "+-----+-----------------+\n",
      "|    1|71.44801958415842|\n",
      "|    2|  71.306804443299|\n",
      "|    3|71.77794377570092|\n",
      "|    4|72.97361900952382|\n",
      "|    5|72.30971688679247|\n",
      "|    6| 72.4953774245283|\n",
      "|    7|74.43971943925233|\n",
      "|    8|73.02981855454546|\n",
      "|    9|72.18411785294116|\n",
      "|   10|71.57854545454543|\n",
      "|   11| 72.1110893069307|\n",
      "|   12|72.84792478301885|\n",
      "+-----+-----------------+\n",
      "\n"
     ]
    }
   ],
   "source": [
    "Avg_Close_Calender = spark.sql\n",
    "            (\"select  month(Date) as Month, avg(close) as Avg_Close \\\n",
    "            from newDF group by month(Date) order by month(Date)\")\n",
    "Avg_Close_Calender.show()"
   ]
  },
  {
   "cell_type": "code",
   "execution_count": null,
   "id": "db86214a",
   "metadata": {},
   "outputs": [],
   "source": []
  }
 ],
 "metadata": {
  "kernelspec": {
   "display_name": "Python 3 (ipykernel)",
   "language": "python",
   "name": "python3"
  },
  "language_info": {
   "codemirror_mode": {
    "name": "ipython",
    "version": 3
   },
   "file_extension": ".py",
   "mimetype": "text/x-python",
   "name": "python",
   "nbconvert_exporter": "python",
   "pygments_lexer": "ipython3",
   "version": "3.9.13"
  }
 },
 "nbformat": 4,
 "nbformat_minor": 5
}
