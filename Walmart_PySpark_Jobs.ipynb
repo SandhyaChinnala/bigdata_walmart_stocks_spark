{
 "cells": [
  {
   "cell_type": "code",
   "execution_count": 1,
   "id": "24b8c6d7",
   "metadata": {},
   "outputs": [],
   "source": [
    "import findspark\n",
    "findspark.init()\n",
    "import pyspark\n",
    "from pyspark.sql import Row"
   ]
  },
  {
   "cell_type": "code",
   "execution_count": 11,
   "id": "1ed6e8a8",
   "metadata": {},
   "outputs": [],
   "source": [
    "from pyspark.sql import SparkSession\n",
    "spark = SparkSession.builder.appName(\"spp\").getOrCreate()"
   ]
  },
  {
   "cell_type": "code",
   "execution_count": 3,
   "id": "de2231a3",
   "metadata": {},
   "outputs": [],
   "source": [
    "from pyspark import SparkContext\n",
    "sc=pyspark.SparkContext()"
   ]
  },
  {
   "cell_type": "code",
   "execution_count": 4,
   "id": "7c363fe2",
   "metadata": {},
   "outputs": [
    {
     "data": {
      "text/html": [
       "\n",
       "        <div>\n",
       "            <p><b>SparkContext</b></p>\n",
       "\n",
       "            <p><a href=\"http://DESKTOP-R8LNB2P:4040\">Spark UI</a></p>\n",
       "\n",
       "            <dl>\n",
       "              <dt>Version</dt>\n",
       "                <dd><code>v3.3.2</code></dd>\n",
       "              <dt>Master</dt>\n",
       "                <dd><code>local[*]</code></dd>\n",
       "              <dt>AppName</dt>\n",
       "                <dd><code>pyspark-shell</code></dd>\n",
       "            </dl>\n",
       "        </div>\n",
       "        "
      ],
      "text/plain": [
       "<SparkContext master=local[*] appName=pyspark-shell>"
      ]
     },
     "execution_count": 4,
     "metadata": {},
     "output_type": "execute_result"
    }
   ],
   "source": [
    "sc"
   ]
  },
  {
   "cell_type": "code",
   "execution_count": 5,
   "id": "e6271a96",
   "metadata": {},
   "outputs": [],
   "source": [
    "walmartRdd = sc.textFile(\"C:/Users/Miles.DESKTOP-R8LNB2P/Documents/BIG DATA/Spark_MiniProject/walmart_stock.csv\")"
   ]
  },
  {
   "cell_type": "code",
   "execution_count": 6,
   "id": "043e245b",
   "metadata": {},
   "outputs": [
    {
     "data": {
      "text/plain": [
       "pyspark.rdd.RDD"
      ]
     },
     "execution_count": 6,
     "metadata": {},
     "output_type": "execute_result"
    }
   ],
   "source": [
    "type(walmartRdd)"
   ]
  },
  {
   "cell_type": "code",
   "execution_count": 7,
   "id": "329393ec",
   "metadata": {},
   "outputs": [
    {
     "data": {
      "text/plain": [
       "['Date,Open,High,Low,Close,Volume,Adj Close',\n",
       " '2012-01-03,59.970001,61.060001,59.869999,60.330002,12668800,52.619234999999996',\n",
       " '2012-01-04,60.209998999999996,60.349998,59.470001,59.709998999999996,9593300,52.078475',\n",
       " '2012-01-05,59.349998,59.619999,58.369999,59.419998,12768200,51.825539',\n",
       " '2012-01-06,59.419998,59.450001,58.869999,59.0,8069400,51.45922',\n",
       " '2012-01-09,59.029999,59.549999,58.919998,59.18,6679300,51.616215000000004',\n",
       " '2012-01-10,59.43,59.709998999999996,58.98,59.040001000000004,6907300,51.494109',\n",
       " '2012-01-11,59.060001,59.529999,59.040001000000004,59.400002,6365600,51.808098',\n",
       " '2012-01-12,59.790001000000004,60.0,59.400002,59.5,7236400,51.895315999999994',\n",
       " '2012-01-13,59.18,59.610001000000004,59.009997999999996,59.540001000000004,7729300,51.930203999999996']"
      ]
     },
     "execution_count": 7,
     "metadata": {},
     "output_type": "execute_result"
    }
   ],
   "source": [
    "walmartRdd.take(10)"
   ]
  },
  {
   "cell_type": "markdown",
   "id": "7b89fb0a",
   "metadata": {},
   "source": [
    "# What percentage of the time was the High greater than 80 dollars ? \n",
    "### In other words, (Number of Days High>80)/(Total Days in the dataset)\n"
   ]
  },
  {
   "cell_type": "code",
   "execution_count": 8,
   "id": "bb4701d8",
   "metadata": {},
   "outputs": [],
   "source": [
    "header = walmartRdd.first()\n",
    "walmart = walmartRdd.filter(lambda row: row != header) # filter out the header"
   ]
  },
  {
   "cell_type": "code",
   "execution_count": 9,
   "id": "4131034b",
   "metadata": {},
   "outputs": [
    {
     "data": {
      "text/plain": [
       "['2012-01-03,59.970001,61.060001,59.869999,60.330002,12668800,52.619234999999996',\n",
       " '2012-01-04,60.209998999999996,60.349998,59.470001,59.709998999999996,9593300,52.078475',\n",
       " '2012-01-05,59.349998,59.619999,58.369999,59.419998,12768200,51.825539',\n",
       " '2012-01-06,59.419998,59.450001,58.869999,59.0,8069400,51.45922',\n",
       " '2012-01-09,59.029999,59.549999,58.919998,59.18,6679300,51.616215000000004',\n",
       " '2012-01-10,59.43,59.709998999999996,58.98,59.040001000000004,6907300,51.494109',\n",
       " '2012-01-11,59.060001,59.529999,59.040001000000004,59.400002,6365600,51.808098',\n",
       " '2012-01-12,59.790001000000004,60.0,59.400002,59.5,7236400,51.895315999999994',\n",
       " '2012-01-13,59.18,59.610001000000004,59.009997999999996,59.540001000000004,7729300,51.930203999999996',\n",
       " '2012-01-17,59.869999,60.110001000000004,59.52,59.849998,8500000,52.200581']"
      ]
     },
     "execution_count": 9,
     "metadata": {},
     "output_type": "execute_result"
    }
   ],
   "source": [
    "walmart.take(10)"
   ]
  },
  {
   "cell_type": "code",
   "execution_count": 12,
   "id": "ccfc723e",
   "metadata": {
    "scrolled": true
   },
   "outputs": [
    {
     "name": "stdout",
     "output_type": "stream",
     "text": [
      "+-------------+\n",
      "|count of Days|\n",
      "+-------------+\n",
      "|           81|\n",
      "+-------------+\n",
      "\n"
     ]
    }
   ],
   "source": [
    "data=walmart.filter(lambda x: float(x.split(',')[4])<60).count()\n",
    "job1=sc.parallelize([Row(data)]).toDF([\"count of Days\"])\n",
    "job1.show()"
   ]
  },
  {
   "cell_type": "markdown",
   "id": "34cdcc3d",
   "metadata": {},
   "source": [
    "# 1.\tCreate a new dataframe with a column called HV Ratio that is the ratio of the High Price versus volume of stock traded for a day. "
   ]
  },
  {
   "cell_type": "code",
   "execution_count": 13,
   "id": "9680c6ad",
   "metadata": {},
   "outputs": [
    {
     "data": {
      "text/plain": [
       "[4.819714653321546e-06,\n",
       " 6.290848613094555e-06,\n",
       " 4.669412994783916e-06,\n",
       " 7.367338463826307e-06,\n",
       " 8.915604778943901e-06,\n",
       " 8.644477436914568e-06,\n",
       " 9.351828421515645e-06,\n",
       " 8.29141562102703e-06,\n",
       " 7.712212102001476e-06,\n",
       " 7.071764823529412e-06]"
      ]
     },
     "execution_count": 13,
     "metadata": {},
     "output_type": "execute_result"
    }
   ],
   "source": [
    "cfields = walmart.map(lambda l:float(l.split(',')[2])/float(l.split(',')[5]))\n",
    "cfields.take(10)"
   ]
  },
  {
   "cell_type": "code",
   "execution_count": null,
   "id": "04bba809",
   "metadata": {},
   "outputs": [],
   "source": []
  },
  {
   "cell_type": "code",
   "execution_count": null,
   "id": "77b78d67",
   "metadata": {},
   "outputs": [],
   "source": []
  }
 ],
 "metadata": {
  "kernelspec": {
   "display_name": "Python 3 (ipykernel)",
   "language": "python",
   "name": "python3"
  },
  "language_info": {
   "codemirror_mode": {
    "name": "ipython",
    "version": 3
   },
   "file_extension": ".py",
   "mimetype": "text/x-python",
   "name": "python",
   "nbconvert_exporter": "python",
   "pygments_lexer": "ipython3",
   "version": "3.9.13"
  }
 },
 "nbformat": 4,
 "nbformat_minor": 5
}
